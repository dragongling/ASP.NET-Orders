{
 "cells": [
  {
   "cell_type": "code",
   "execution_count": 2,
   "metadata": {},
   "outputs": [
    {
     "name": "stdout",
     "output_type": "stream",
     "text": [
      "C# works here!\r\n"
     ]
    }
   ],
   "source": [
    "void Test(){\n",
    "    System.Console.WriteLine(\"C# works here!\");\n",
    "}\n",
    "\n",
    "Test();"
   ]
  },
  {
   "cell_type": "markdown",
   "metadata": {},
   "source": [
    "# Отчёт по тестовому заданию"
   ]
  },
  {
   "cell_type": "markdown",
   "metadata": {},
   "source": [
    "Для составления отчёта я выбрал Jupyter Notebook с ядром C#, т.к. считаю Jupyter самым наглядным инструментом для этого."
   ]
  },
  {
   "cell_type": "markdown",
   "metadata": {},
   "source": [
    "Начинаем со схемы БД. Скрипты для создания БД я делаю в [DB Designer](https://www.dbdesigner.net/), нашёл его ещё будучи студентом, считаю лучшим инструментом для проектирования БД."
   ]
  },
  {
   "cell_type": "markdown",
   "metadata": {},
   "source": [
    "![DB Designer schema](DB_Designer_schema.PNG)"
   ]
  },
  {
   "cell_type": "markdown",
   "metadata": {},
   "source": [
    "Теперь нужно экспортировать схему в SQL скрипт и создать БД. У меня есть несколько вариантов:\n",
    "1. Установить и развернуть MS SQL Server instance. Я много работал с MS SQL Server и у этого варианта есть несколько недостатков:\n",
    "  * Установка долгая, могут возникнуть ошибки\n",
    "  * SQL Server ресурсозатратный для домашних ПК\n",
    "  * Я не знаю лёгкого способа перенести БД со всеми настройками из одного инстанса в другой\n",
    "2. Использовать SQLite. Недостатки:\n",
    "  * Пока что нашёл только [проприетарный ADO.NET провайдер](https://www.devart.com/dotconnect/sqlite/) для него, что настораживает\n",
    "  * В SQLite нет серверных процедур, функций и прочих прелестей T-SQL\n",
    "3. Разворачивать другие БД (MySQL, PostgreSQL и т.д.)"
   ]
  },
  {
   "cell_type": "code",
   "execution_count": null,
   "metadata": {},
   "outputs": [],
   "source": []
  },
  {
   "cell_type": "code",
   "execution_count": null,
   "metadata": {},
   "outputs": [],
   "source": []
  },
  {
   "cell_type": "code",
   "execution_count": null,
   "metadata": {},
   "outputs": [],
   "source": []
  }
 ],
 "metadata": {
  "kernelspec": {
   "display_name": ".NET (C#)",
   "language": "C#",
   "name": ".net-csharp"
  },
  "language_info": {
   "file_extension": ".cs",
   "mimetype": "text/x-csharp",
   "name": "C#",
   "pygments_lexer": "csharp",
   "version": "8.0"
  }
 },
 "nbformat": 4,
 "nbformat_minor": 4
}
